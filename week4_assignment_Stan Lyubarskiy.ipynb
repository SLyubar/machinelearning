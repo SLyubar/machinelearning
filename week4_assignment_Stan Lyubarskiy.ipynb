{
 "cells": [
  {
   "cell_type": "markdown",
   "id": "8115ac8a",
   "metadata": {},
   "source": [
    "# ML Week 4 Assignment \n",
    "\n",
    "Stan Lyubarskiy\n",
    "\n",
    "## Instructions\n",
    "\n",
    "The programming assignment for the Support Vector Machine model is\n",
    "\n",
    "\n",
    "1. Using the Scikit-Learn Library train the SVM model on the KDD99 data set to classify Dos vs Non Dos using all of the features at once.\n",
    "\n",
    "\n",
    "2. Run the SVM model (at least) four times using a different kernel each time using all the features.\n",
    "\n",
    "Compare the results for each of the kernels.\n",
    "Discuss the pros and cons of using each of the kernels that you've chosen.\n",
    "\n",
    "3. Pick two features which you think are important for this problem. Train SVM model using only those two features and visualize the decision boundary. Do this for linear kernel and RBF kernel only. You may want to subsample the training data substantially in order to get a good visualization within a reasonable time. Discuss your observations.\n",
    "\n",
    "Note: You can use label encoder or one hot encoding for encoding categorical variables.\n",
    "\n",
    "Note: You can refer to https://scikit-learn.org/0.18/auto_examples/svm/plot_iris.html or https://scikit-learn.org/dev/auto_examples/svm/plot_iris_svc.html#sphx-glr-auto-examples-svm-plot-iris-svc-py for visualization\n",
    "\n",
    "Note: The dataset given is highly imbalanced, you are required to under sample the majority class to make the dataset balanced( Refer: imblearn.under_sampling.RandomUnderSampler).\n",
    "\n",
    "Furthermore, It is recommended to take a smaller fraction of dataset as SVM is slower compared to other models. Scaling of the dataset could also help (Refer: sklearn.preprocessing.MinMaxScaler).\n",
    "\n",
    "Different attack types in the dataset:\n",
    "\n",
    "back dos\n",
    "buffer_overflow u2r\n",
    "ftp_write r2l\n",
    "guess_passwd r2l\n",
    "imap r2l\n",
    "ipsweep probe\n",
    "land dos\n",
    "loadmodule u2r\n",
    "multihop r2l\n",
    "neptune dos\n",
    "nmap probe\n",
    "perl u2r\n",
    "phf r2l\n",
    "pod dos\n",
    "portsweep probe\n",
    "rootkit u2r\n",
    "satan probe\n",
    "smurf dos\n",
    "spy r2l\n",
    "teardrop dos\n",
    "warezclient r2l\n",
    "warezmaster r2"
   ]
  },
  {
   "cell_type": "markdown",
   "id": "58c1495c",
   "metadata": {},
   "source": [
    "## Introduction\n",
    "\n",
    "In this analysis, we will use the same kddcup dataset but for a different use case. We will classify whether the attack is a DoS or non-DoS attack using Support Vector Machines (SVMs). We will begin by importing our libraries and reading in the data. After that we apply filtering, assign our X and Y, transform our features with one hot encoding and standardization before undersampling the dataset. Finally, we split our data into training and testing datasets and begin applying SVM."
   ]
  },
  {
   "cell_type": "code",
   "execution_count": 1,
   "id": "a073c1fa",
   "metadata": {},
   "outputs": [],
   "source": [
    "import pandas as pd\n",
    "import matplotlib.pyplot as plt\n",
    "from sklearn import svm\n",
    "from sklearn.inspection import DecisionBoundaryDisplay\n",
    "import numpy as np\n",
    "from sklearn.model_selection import train_test_split\n",
    "from sklearn.preprocessing import MinMaxScaler\n",
    "from sklearn.metrics import accuracy_score\n",
    "from imblearn.under_sampling import RandomUnderSampler"
   ]
  },
  {
   "cell_type": "code",
   "execution_count": 2,
   "id": "ca3b03d3",
   "metadata": {},
   "outputs": [],
   "source": [
    "#import the file as a df and the column headers from the names file\n",
    "\n",
    "df = pd.read_csv(\"kddcup.data.gz\", header=None, names=[\"duration\",\"protocol_type\",\"service\",\"flag\",\"src_bytes\",\"dst_bytes\",\n",
    "                                                      \"land\",\"wrong_fragment\",\"urgent\",\"hot\",\"num_failed_logins\",\"logged_in\",\n",
    "                                                      \"num_compromised\",\"root_shell\",\"su_attempted\",\"num_root\",\n",
    "                                                      \"num_file_creations\",\"num_shells\",\"num_access_files\",\"num_outbound_cmds\",\n",
    "                                                      \"is_host_login\",\"is_guest_login\",\"count\",\"srv_count\",\"serror_rate\",\n",
    "                                                      \"srv_serror_rate\",\"rerror_rate\",\"srv_rerror_rate\",\"same_srv_rate\",\n",
    "                                                      \"diff_srv_rate\",\"srv_diff_host_rate\",\"dst_host_count\",\"dst_host_srv_count\",\n",
    "                                                      \"dst_host_same_srv_rate\",\"dst_host_diff_srv_rate\",\n",
    "                                                      \"dst_host_same_src_port_rate\",\"dst_host_srv_diff_host_rate\",\n",
    "                                                      \"dst_host_serror_rate\",\"dst_host_srv_serror_rate\",\"dst_host_rerror_rate\",\n",
    "                                                      \"dst_host_srv_rerror_rate\",\"attacks\"])"
   ]
  },
  {
   "cell_type": "code",
   "execution_count": 3,
   "id": "8e5b97b4",
   "metadata": {},
   "outputs": [],
   "source": [
    "#filter all rows where the attack = normal because we only want attack data in our dataset\n",
    "df2 = df[df[\"attacks\"] != \"normal.\"]"
   ]
  },
  {
   "cell_type": "code",
   "execution_count": 4,
   "id": "46a0ae28",
   "metadata": {},
   "outputs": [],
   "source": [
    "# let's reset the index so it does not look out of order\n",
    "df2.reset_index(drop=True, inplace=True)"
   ]
  },
  {
   "cell_type": "code",
   "execution_count": 5,
   "id": "6875f010",
   "metadata": {},
   "outputs": [
    {
     "name": "stdout",
     "output_type": "stream",
     "text": [
      "(3925650, 42)\n"
     ]
    },
    {
     "data": {
      "text/html": [
       "<div>\n",
       "<style scoped>\n",
       "    .dataframe tbody tr th:only-of-type {\n",
       "        vertical-align: middle;\n",
       "    }\n",
       "\n",
       "    .dataframe tbody tr th {\n",
       "        vertical-align: top;\n",
       "    }\n",
       "\n",
       "    .dataframe thead th {\n",
       "        text-align: right;\n",
       "    }\n",
       "</style>\n",
       "<table border=\"1\" class=\"dataframe\">\n",
       "  <thead>\n",
       "    <tr style=\"text-align: right;\">\n",
       "      <th></th>\n",
       "      <th>duration</th>\n",
       "      <th>protocol_type</th>\n",
       "      <th>service</th>\n",
       "      <th>flag</th>\n",
       "      <th>src_bytes</th>\n",
       "      <th>dst_bytes</th>\n",
       "      <th>land</th>\n",
       "      <th>wrong_fragment</th>\n",
       "      <th>urgent</th>\n",
       "      <th>hot</th>\n",
       "      <th>...</th>\n",
       "      <th>dst_host_srv_count</th>\n",
       "      <th>dst_host_same_srv_rate</th>\n",
       "      <th>dst_host_diff_srv_rate</th>\n",
       "      <th>dst_host_same_src_port_rate</th>\n",
       "      <th>dst_host_srv_diff_host_rate</th>\n",
       "      <th>dst_host_serror_rate</th>\n",
       "      <th>dst_host_srv_serror_rate</th>\n",
       "      <th>dst_host_rerror_rate</th>\n",
       "      <th>dst_host_srv_rerror_rate</th>\n",
       "      <th>attacks</th>\n",
       "    </tr>\n",
       "  </thead>\n",
       "  <tbody>\n",
       "    <tr>\n",
       "      <th>0</th>\n",
       "      <td>184</td>\n",
       "      <td>tcp</td>\n",
       "      <td>telnet</td>\n",
       "      <td>SF</td>\n",
       "      <td>1511</td>\n",
       "      <td>2957</td>\n",
       "      <td>0</td>\n",
       "      <td>0</td>\n",
       "      <td>0</td>\n",
       "      <td>3</td>\n",
       "      <td>...</td>\n",
       "      <td>3</td>\n",
       "      <td>1.00</td>\n",
       "      <td>0.00</td>\n",
       "      <td>1.00</td>\n",
       "      <td>0.67</td>\n",
       "      <td>0.0</td>\n",
       "      <td>0.0</td>\n",
       "      <td>0.0</td>\n",
       "      <td>0.0</td>\n",
       "      <td>buffer_overflow.</td>\n",
       "    </tr>\n",
       "    <tr>\n",
       "      <th>1</th>\n",
       "      <td>305</td>\n",
       "      <td>tcp</td>\n",
       "      <td>telnet</td>\n",
       "      <td>SF</td>\n",
       "      <td>1735</td>\n",
       "      <td>2766</td>\n",
       "      <td>0</td>\n",
       "      <td>0</td>\n",
       "      <td>0</td>\n",
       "      <td>3</td>\n",
       "      <td>...</td>\n",
       "      <td>4</td>\n",
       "      <td>1.00</td>\n",
       "      <td>0.00</td>\n",
       "      <td>0.50</td>\n",
       "      <td>0.50</td>\n",
       "      <td>0.0</td>\n",
       "      <td>0.0</td>\n",
       "      <td>0.0</td>\n",
       "      <td>0.0</td>\n",
       "      <td>buffer_overflow.</td>\n",
       "    </tr>\n",
       "    <tr>\n",
       "      <th>2</th>\n",
       "      <td>79</td>\n",
       "      <td>tcp</td>\n",
       "      <td>telnet</td>\n",
       "      <td>SF</td>\n",
       "      <td>281</td>\n",
       "      <td>1301</td>\n",
       "      <td>0</td>\n",
       "      <td>0</td>\n",
       "      <td>0</td>\n",
       "      <td>2</td>\n",
       "      <td>...</td>\n",
       "      <td>10</td>\n",
       "      <td>1.00</td>\n",
       "      <td>0.00</td>\n",
       "      <td>1.00</td>\n",
       "      <td>0.30</td>\n",
       "      <td>0.0</td>\n",
       "      <td>0.0</td>\n",
       "      <td>0.0</td>\n",
       "      <td>0.1</td>\n",
       "      <td>loadmodule.</td>\n",
       "    </tr>\n",
       "    <tr>\n",
       "      <th>3</th>\n",
       "      <td>25</td>\n",
       "      <td>tcp</td>\n",
       "      <td>telnet</td>\n",
       "      <td>SF</td>\n",
       "      <td>269</td>\n",
       "      <td>2333</td>\n",
       "      <td>0</td>\n",
       "      <td>0</td>\n",
       "      <td>0</td>\n",
       "      <td>0</td>\n",
       "      <td>...</td>\n",
       "      <td>2</td>\n",
       "      <td>0.03</td>\n",
       "      <td>0.06</td>\n",
       "      <td>0.01</td>\n",
       "      <td>0.00</td>\n",
       "      <td>0.0</td>\n",
       "      <td>0.0</td>\n",
       "      <td>0.0</td>\n",
       "      <td>0.0</td>\n",
       "      <td>perl.</td>\n",
       "    </tr>\n",
       "    <tr>\n",
       "      <th>4</th>\n",
       "      <td>0</td>\n",
       "      <td>tcp</td>\n",
       "      <td>telnet</td>\n",
       "      <td>S0</td>\n",
       "      <td>0</td>\n",
       "      <td>0</td>\n",
       "      <td>0</td>\n",
       "      <td>0</td>\n",
       "      <td>0</td>\n",
       "      <td>0</td>\n",
       "      <td>...</td>\n",
       "      <td>2</td>\n",
       "      <td>1.00</td>\n",
       "      <td>0.00</td>\n",
       "      <td>1.00</td>\n",
       "      <td>1.00</td>\n",
       "      <td>1.0</td>\n",
       "      <td>0.5</td>\n",
       "      <td>0.0</td>\n",
       "      <td>0.0</td>\n",
       "      <td>neptune.</td>\n",
       "    </tr>\n",
       "  </tbody>\n",
       "</table>\n",
       "<p>5 rows × 42 columns</p>\n",
       "</div>"
      ],
      "text/plain": [
       "   duration protocol_type service flag  src_bytes  dst_bytes  land  \\\n",
       "0       184           tcp  telnet   SF       1511       2957     0   \n",
       "1       305           tcp  telnet   SF       1735       2766     0   \n",
       "2        79           tcp  telnet   SF        281       1301     0   \n",
       "3        25           tcp  telnet   SF        269       2333     0   \n",
       "4         0           tcp  telnet   S0          0          0     0   \n",
       "\n",
       "   wrong_fragment  urgent  hot  ...  dst_host_srv_count  \\\n",
       "0               0       0    3  ...                   3   \n",
       "1               0       0    3  ...                   4   \n",
       "2               0       0    2  ...                  10   \n",
       "3               0       0    0  ...                   2   \n",
       "4               0       0    0  ...                   2   \n",
       "\n",
       "   dst_host_same_srv_rate  dst_host_diff_srv_rate  \\\n",
       "0                    1.00                    0.00   \n",
       "1                    1.00                    0.00   \n",
       "2                    1.00                    0.00   \n",
       "3                    0.03                    0.06   \n",
       "4                    1.00                    0.00   \n",
       "\n",
       "   dst_host_same_src_port_rate  dst_host_srv_diff_host_rate  \\\n",
       "0                         1.00                         0.67   \n",
       "1                         0.50                         0.50   \n",
       "2                         1.00                         0.30   \n",
       "3                         0.01                         0.00   \n",
       "4                         1.00                         1.00   \n",
       "\n",
       "   dst_host_serror_rate  dst_host_srv_serror_rate  dst_host_rerror_rate  \\\n",
       "0                   0.0                       0.0                   0.0   \n",
       "1                   0.0                       0.0                   0.0   \n",
       "2                   0.0                       0.0                   0.0   \n",
       "3                   0.0                       0.0                   0.0   \n",
       "4                   1.0                       0.5                   0.0   \n",
       "\n",
       "   dst_host_srv_rerror_rate           attacks  \n",
       "0                       0.0  buffer_overflow.  \n",
       "1                       0.0  buffer_overflow.  \n",
       "2                       0.1       loadmodule.  \n",
       "3                       0.0             perl.  \n",
       "4                       0.0          neptune.  \n",
       "\n",
       "[5 rows x 42 columns]"
      ]
     },
     "execution_count": 5,
     "metadata": {},
     "output_type": "execute_result"
    }
   ],
   "source": [
    "# check to make sure it worked\n",
    "print(df2.shape)\n",
    "df2.head()"
   ]
  },
  {
   "cell_type": "code",
   "execution_count": 6,
   "id": "5aa8312d",
   "metadata": {},
   "outputs": [],
   "source": [
    "# assign my y and X\n",
    "# DoS attacks are \"back.\", \"land.\", \"neptune.\", \"pod.\", smurf.\", \"teardrop.\"\n",
    "y = df2.iloc[:, -1].values\n",
    "y = np.where((y == \"back.\") | (y == \"land.\") | (y == \"neptune.\") | (y ==\"pod.\") | (y ==\"smurf.\") | (y ==\"teardrop.\"), 1, 0)\n",
    "\n",
    "X = df2.iloc[:,0:41]"
   ]
  },
  {
   "cell_type": "code",
   "execution_count": 7,
   "id": "0324a410",
   "metadata": {},
   "outputs": [
    {
     "data": {
      "text/plain": [
       "(array([0, 1]), array([  42280, 3883370], dtype=int64))"
      ]
     },
     "execution_count": 7,
     "metadata": {},
     "output_type": "execute_result"
    }
   ],
   "source": [
    "# count of unique Y values\n",
    "np.unique(y, return_counts=True)"
   ]
  },
  {
   "cell_type": "code",
   "execution_count": 8,
   "id": "1e666859",
   "metadata": {},
   "outputs": [
    {
     "name": "stdout",
     "output_type": "stream",
     "text": [
      "Index(['duration', 'src_bytes', 'dst_bytes', 'land', 'wrong_fragment',\n",
      "       'urgent', 'hot', 'num_failed_logins', 'logged_in', 'num_compromised',\n",
      "       ...\n",
      "       'enc_REJ', 'enc_RSTO', 'enc_RSTOS0', 'enc_RSTR', 'enc_S0', 'enc_S1',\n",
      "       'enc_S2', 'enc_S3', 'enc_SF', 'enc_SH'],\n",
      "      dtype='object', length=118) (3925650, 118)\n"
     ]
    }
   ],
   "source": [
    "# use pd.get_dummies to one hot encode all the categorical columns\n",
    "\n",
    "X = pd.get_dummies(X, prefix=\"enc\")\n",
    "print(X.columns, X.shape)"
   ]
  },
  {
   "cell_type": "code",
   "execution_count": 9,
   "id": "c8685da7",
   "metadata": {},
   "outputs": [],
   "source": [
    "# save the column names for later use\n",
    "feature_names = X.columns"
   ]
  },
  {
   "cell_type": "code",
   "execution_count": 10,
   "id": "47c368f0",
   "metadata": {},
   "outputs": [],
   "source": [
    "# standardize the columns with a large variance\n",
    "# duration, src_bytes, dst_bytes, count, srv_count, dst_host_count, and dst_host_srv_count all have a very large varaince\n",
    "# we know this from the previous assignment\n",
    "\n",
    "std_features = [\"duration\", \"src_bytes\", \"dst_bytes\", \"count\", \"srv_count\", \"dst_host_count\", \"dst_host_srv_count\"]\n",
    "\n",
    "mms = MinMaxScaler()\n",
    "\n",
    "X_mms = X.loc[:, std_features].values\n",
    "\n",
    "X.loc[:, std_features] = mms.fit_transform(X_mms)"
   ]
  },
  {
   "cell_type": "code",
   "execution_count": 11,
   "id": "818b89b4",
   "metadata": {},
   "outputs": [],
   "source": [
    "#undersample the data\n",
    "rus = RandomUnderSampler(random_state=0)\n",
    "\n",
    "X_res, y_res = rus.fit_resample(X, y)"
   ]
  },
  {
   "cell_type": "code",
   "execution_count": 12,
   "id": "5e49e6c2",
   "metadata": {},
   "outputs": [
    {
     "name": "stdout",
     "output_type": "stream",
     "text": [
      "Size of X: (84560, 118) Size of Y: (84560,)\n"
     ]
    }
   ],
   "source": [
    "# check the results of undersampling\n",
    "print(\"Size of X:\",X_res.shape, \"Size of Y:\", y_res.shape)"
   ]
  },
  {
   "cell_type": "code",
   "execution_count": 13,
   "id": "39571bdd",
   "metadata": {},
   "outputs": [],
   "source": [
    "# split the data into an 80/20 training/testing division\n",
    "X_train, X_test, y_train, y_test = train_test_split(X_res, y_res, test_size=0.20, random_state=0)"
   ]
  },
  {
   "cell_type": "code",
   "execution_count": 14,
   "id": "fbf4947c",
   "metadata": {},
   "outputs": [
    {
     "name": "stdout",
     "output_type": "stream",
     "text": [
      "Size of X_train: (67648, 118) Size of Y_train: (67648,)\n",
      "Size of X_test: (16912, 118) Size of Y_test: (16912,)\n"
     ]
    }
   ],
   "source": [
    "# Size of each sample\n",
    "print(\"Size of X_train:\",X_train.shape, \"Size of Y_train:\", y_train.shape)\n",
    "print(\"Size of X_test:\",X_test.shape, \"Size of Y_test:\", y_test.shape)"
   ]
  },
  {
   "cell_type": "markdown",
   "id": "f0f201a3",
   "metadata": {},
   "source": [
    "For our analysis, we will test the accuracy of the models with four different kernels. The four kernals are linear, poly, rbf, and sigmoid."
   ]
  },
  {
   "cell_type": "markdown",
   "id": "f33ee6a0",
   "metadata": {},
   "source": [
    "## Testing using the Linear Kernel"
   ]
  },
  {
   "cell_type": "code",
   "execution_count": 15,
   "id": "0b057d5c",
   "metadata": {},
   "outputs": [],
   "source": [
    "# Create a linear support vector classifier\n",
    "svclinear = svm.SVC(kernel=\"linear\")"
   ]
  },
  {
   "cell_type": "code",
   "execution_count": 16,
   "id": "12b45174",
   "metadata": {},
   "outputs": [
    {
     "name": "stdout",
     "output_type": "stream",
     "text": [
      "1.63 s ± 39 ms per loop (mean ± std. dev. of 7 runs, 1 loop each)\n"
     ]
    },
    {
     "data": {
      "text/html": [
       "<style>#sk-container-id-1 {color: black;background-color: white;}#sk-container-id-1 pre{padding: 0;}#sk-container-id-1 div.sk-toggleable {background-color: white;}#sk-container-id-1 label.sk-toggleable__label {cursor: pointer;display: block;width: 100%;margin-bottom: 0;padding: 0.3em;box-sizing: border-box;text-align: center;}#sk-container-id-1 label.sk-toggleable__label-arrow:before {content: \"▸\";float: left;margin-right: 0.25em;color: #696969;}#sk-container-id-1 label.sk-toggleable__label-arrow:hover:before {color: black;}#sk-container-id-1 div.sk-estimator:hover label.sk-toggleable__label-arrow:before {color: black;}#sk-container-id-1 div.sk-toggleable__content {max-height: 0;max-width: 0;overflow: hidden;text-align: left;background-color: #f0f8ff;}#sk-container-id-1 div.sk-toggleable__content pre {margin: 0.2em;color: black;border-radius: 0.25em;background-color: #f0f8ff;}#sk-container-id-1 input.sk-toggleable__control:checked~div.sk-toggleable__content {max-height: 200px;max-width: 100%;overflow: auto;}#sk-container-id-1 input.sk-toggleable__control:checked~label.sk-toggleable__label-arrow:before {content: \"▾\";}#sk-container-id-1 div.sk-estimator input.sk-toggleable__control:checked~label.sk-toggleable__label {background-color: #d4ebff;}#sk-container-id-1 div.sk-label input.sk-toggleable__control:checked~label.sk-toggleable__label {background-color: #d4ebff;}#sk-container-id-1 input.sk-hidden--visually {border: 0;clip: rect(1px 1px 1px 1px);clip: rect(1px, 1px, 1px, 1px);height: 1px;margin: -1px;overflow: hidden;padding: 0;position: absolute;width: 1px;}#sk-container-id-1 div.sk-estimator {font-family: monospace;background-color: #f0f8ff;border: 1px dotted black;border-radius: 0.25em;box-sizing: border-box;margin-bottom: 0.5em;}#sk-container-id-1 div.sk-estimator:hover {background-color: #d4ebff;}#sk-container-id-1 div.sk-parallel-item::after {content: \"\";width: 100%;border-bottom: 1px solid gray;flex-grow: 1;}#sk-container-id-1 div.sk-label:hover label.sk-toggleable__label {background-color: #d4ebff;}#sk-container-id-1 div.sk-serial::before {content: \"\";position: absolute;border-left: 1px solid gray;box-sizing: border-box;top: 0;bottom: 0;left: 50%;z-index: 0;}#sk-container-id-1 div.sk-serial {display: flex;flex-direction: column;align-items: center;background-color: white;padding-right: 0.2em;padding-left: 0.2em;position: relative;}#sk-container-id-1 div.sk-item {position: relative;z-index: 1;}#sk-container-id-1 div.sk-parallel {display: flex;align-items: stretch;justify-content: center;background-color: white;position: relative;}#sk-container-id-1 div.sk-item::before, #sk-container-id-1 div.sk-parallel-item::before {content: \"\";position: absolute;border-left: 1px solid gray;box-sizing: border-box;top: 0;bottom: 0;left: 50%;z-index: -1;}#sk-container-id-1 div.sk-parallel-item {display: flex;flex-direction: column;z-index: 1;position: relative;background-color: white;}#sk-container-id-1 div.sk-parallel-item:first-child::after {align-self: flex-end;width: 50%;}#sk-container-id-1 div.sk-parallel-item:last-child::after {align-self: flex-start;width: 50%;}#sk-container-id-1 div.sk-parallel-item:only-child::after {width: 0;}#sk-container-id-1 div.sk-dashed-wrapped {border: 1px dashed gray;margin: 0 0.4em 0.5em 0.4em;box-sizing: border-box;padding-bottom: 0.4em;background-color: white;}#sk-container-id-1 div.sk-label label {font-family: monospace;font-weight: bold;display: inline-block;line-height: 1.2em;}#sk-container-id-1 div.sk-label-container {text-align: center;}#sk-container-id-1 div.sk-container {/* jupyter's `normalize.less` sets `[hidden] { display: none; }` but bootstrap.min.css set `[hidden] { display: none !important; }` so we also need the `!important` here to be able to override the default hidden behavior on the sphinx rendered scikit-learn.org. See: https://github.com/scikit-learn/scikit-learn/issues/21755 */display: inline-block !important;position: relative;}#sk-container-id-1 div.sk-text-repr-fallback {display: none;}</style><div id=\"sk-container-id-1\" class=\"sk-top-container\"><div class=\"sk-text-repr-fallback\"><pre>SVC(kernel=&#x27;linear&#x27;)</pre><b>In a Jupyter environment, please rerun this cell to show the HTML representation or trust the notebook. <br />On GitHub, the HTML representation is unable to render, please try loading this page with nbviewer.org.</b></div><div class=\"sk-container\" hidden><div class=\"sk-item\"><div class=\"sk-estimator sk-toggleable\"><input class=\"sk-toggleable__control sk-hidden--visually\" id=\"sk-estimator-id-1\" type=\"checkbox\" checked><label for=\"sk-estimator-id-1\" class=\"sk-toggleable__label sk-toggleable__label-arrow\">SVC</label><div class=\"sk-toggleable__content\"><pre>SVC(kernel=&#x27;linear&#x27;)</pre></div></div></div></div></div>"
      ],
      "text/plain": [
       "SVC(kernel='linear')"
      ]
     },
     "execution_count": 16,
     "metadata": {},
     "output_type": "execute_result"
    }
   ],
   "source": [
    "# fit the model on the training data and time the execution\n",
    "%timeit svclinear.fit(X_train,y_train)\n",
    "svclinear.fit(X_train,y_train)"
   ]
  },
  {
   "cell_type": "code",
   "execution_count": 17,
   "id": "d7741070",
   "metadata": {},
   "outputs": [],
   "source": [
    "# gather our predictions\n",
    "linear_pred = svclinear.predict(X_test)"
   ]
  },
  {
   "cell_type": "code",
   "execution_count": 19,
   "id": "ccda871f",
   "metadata": {},
   "outputs": [
    {
     "name": "stdout",
     "output_type": "stream",
     "text": [
      "Training Accuracy: 99.99704351939451 %\n",
      "Testing Accuracy: 99.98817407757805 %\n",
      "Number of Iterations: 648\n"
     ]
    }
   ],
   "source": [
    "# Print our training and testing accuracy scores for the linear model\n",
    "print(\"Training Accuracy:\", svclinear.score(X_train, y_train)*100,\"%\")\n",
    "print(\"Testing Accuracy:\", (accuracy_score(linear_pred, y_test)*100),\"%\")\n",
    "print(\"Number of Iterations:\", svclinear.n_iter_[0])"
   ]
  },
  {
   "cell_type": "code",
   "execution_count": 86,
   "id": "fbb11fcc",
   "metadata": {},
   "outputs": [
    {
     "data": {
      "text/plain": [
       "(94, 118)"
      ]
     },
     "execution_count": 86,
     "metadata": {},
     "output_type": "execute_result"
    }
   ],
   "source": [
    "# Look at the size of the support vectors\n",
    "S = svclinear.support_vectors_\n",
    "S.shape"
   ]
  },
  {
   "cell_type": "markdown",
   "id": "4320381a",
   "metadata": {},
   "source": [
    "## Observation\n",
    "\n",
    "The support vector classifier using the linear kernel was very fast and accurate. It produced a ~ 99.99% testing accuracy. Interestingly, only 94 of the 67,648 training samples were used. That seems like a fairly low number but might explain why the computations were so fast. Let us now try the rbf kernel."
   ]
  },
  {
   "cell_type": "markdown",
   "id": "2cc34532",
   "metadata": {},
   "source": [
    "## Testing using the RBF Kernel"
   ]
  },
  {
   "cell_type": "code",
   "execution_count": 87,
   "id": "67cb02c9",
   "metadata": {},
   "outputs": [],
   "source": [
    "# create the classifier\n",
    "svcrbf = svm.SVC(kernel=\"rbf\")"
   ]
  },
  {
   "cell_type": "code",
   "execution_count": 88,
   "id": "d1796ebd",
   "metadata": {},
   "outputs": [
    {
     "name": "stdout",
     "output_type": "stream",
     "text": [
      "3.62 s ± 884 ms per loop (mean ± std. dev. of 7 runs, 1 loop each)\n"
     ]
    },
    {
     "data": {
      "text/html": [
       "<style>#sk-container-id-6 {color: black;background-color: white;}#sk-container-id-6 pre{padding: 0;}#sk-container-id-6 div.sk-toggleable {background-color: white;}#sk-container-id-6 label.sk-toggleable__label {cursor: pointer;display: block;width: 100%;margin-bottom: 0;padding: 0.3em;box-sizing: border-box;text-align: center;}#sk-container-id-6 label.sk-toggleable__label-arrow:before {content: \"▸\";float: left;margin-right: 0.25em;color: #696969;}#sk-container-id-6 label.sk-toggleable__label-arrow:hover:before {color: black;}#sk-container-id-6 div.sk-estimator:hover label.sk-toggleable__label-arrow:before {color: black;}#sk-container-id-6 div.sk-toggleable__content {max-height: 0;max-width: 0;overflow: hidden;text-align: left;background-color: #f0f8ff;}#sk-container-id-6 div.sk-toggleable__content pre {margin: 0.2em;color: black;border-radius: 0.25em;background-color: #f0f8ff;}#sk-container-id-6 input.sk-toggleable__control:checked~div.sk-toggleable__content {max-height: 200px;max-width: 100%;overflow: auto;}#sk-container-id-6 input.sk-toggleable__control:checked~label.sk-toggleable__label-arrow:before {content: \"▾\";}#sk-container-id-6 div.sk-estimator input.sk-toggleable__control:checked~label.sk-toggleable__label {background-color: #d4ebff;}#sk-container-id-6 div.sk-label input.sk-toggleable__control:checked~label.sk-toggleable__label {background-color: #d4ebff;}#sk-container-id-6 input.sk-hidden--visually {border: 0;clip: rect(1px 1px 1px 1px);clip: rect(1px, 1px, 1px, 1px);height: 1px;margin: -1px;overflow: hidden;padding: 0;position: absolute;width: 1px;}#sk-container-id-6 div.sk-estimator {font-family: monospace;background-color: #f0f8ff;border: 1px dotted black;border-radius: 0.25em;box-sizing: border-box;margin-bottom: 0.5em;}#sk-container-id-6 div.sk-estimator:hover {background-color: #d4ebff;}#sk-container-id-6 div.sk-parallel-item::after {content: \"\";width: 100%;border-bottom: 1px solid gray;flex-grow: 1;}#sk-container-id-6 div.sk-label:hover label.sk-toggleable__label {background-color: #d4ebff;}#sk-container-id-6 div.sk-serial::before {content: \"\";position: absolute;border-left: 1px solid gray;box-sizing: border-box;top: 0;bottom: 0;left: 50%;z-index: 0;}#sk-container-id-6 div.sk-serial {display: flex;flex-direction: column;align-items: center;background-color: white;padding-right: 0.2em;padding-left: 0.2em;position: relative;}#sk-container-id-6 div.sk-item {position: relative;z-index: 1;}#sk-container-id-6 div.sk-parallel {display: flex;align-items: stretch;justify-content: center;background-color: white;position: relative;}#sk-container-id-6 div.sk-item::before, #sk-container-id-6 div.sk-parallel-item::before {content: \"\";position: absolute;border-left: 1px solid gray;box-sizing: border-box;top: 0;bottom: 0;left: 50%;z-index: -1;}#sk-container-id-6 div.sk-parallel-item {display: flex;flex-direction: column;z-index: 1;position: relative;background-color: white;}#sk-container-id-6 div.sk-parallel-item:first-child::after {align-self: flex-end;width: 50%;}#sk-container-id-6 div.sk-parallel-item:last-child::after {align-self: flex-start;width: 50%;}#sk-container-id-6 div.sk-parallel-item:only-child::after {width: 0;}#sk-container-id-6 div.sk-dashed-wrapped {border: 1px dashed gray;margin: 0 0.4em 0.5em 0.4em;box-sizing: border-box;padding-bottom: 0.4em;background-color: white;}#sk-container-id-6 div.sk-label label {font-family: monospace;font-weight: bold;display: inline-block;line-height: 1.2em;}#sk-container-id-6 div.sk-label-container {text-align: center;}#sk-container-id-6 div.sk-container {/* jupyter's `normalize.less` sets `[hidden] { display: none; }` but bootstrap.min.css set `[hidden] { display: none !important; }` so we also need the `!important` here to be able to override the default hidden behavior on the sphinx rendered scikit-learn.org. See: https://github.com/scikit-learn/scikit-learn/issues/21755 */display: inline-block !important;position: relative;}#sk-container-id-6 div.sk-text-repr-fallback {display: none;}</style><div id=\"sk-container-id-6\" class=\"sk-top-container\"><div class=\"sk-text-repr-fallback\"><pre>SVC()</pre><b>In a Jupyter environment, please rerun this cell to show the HTML representation or trust the notebook. <br />On GitHub, the HTML representation is unable to render, please try loading this page with nbviewer.org.</b></div><div class=\"sk-container\" hidden><div class=\"sk-item\"><div class=\"sk-estimator sk-toggleable\"><input class=\"sk-toggleable__control sk-hidden--visually\" id=\"sk-estimator-id-6\" type=\"checkbox\" checked><label for=\"sk-estimator-id-6\" class=\"sk-toggleable__label sk-toggleable__label-arrow\">SVC</label><div class=\"sk-toggleable__content\"><pre>SVC()</pre></div></div></div></div></div>"
      ],
      "text/plain": [
       "SVC()"
      ]
     },
     "execution_count": 88,
     "metadata": {},
     "output_type": "execute_result"
    }
   ],
   "source": [
    "# fit the model on the training data and time the execution\n",
    "%timeit svcrbf.fit(X_train,y_train)\n",
    "svcrbf.fit(X_train,y_train)"
   ]
  },
  {
   "cell_type": "code",
   "execution_count": 92,
   "id": "f3bd4d53",
   "metadata": {},
   "outputs": [],
   "source": [
    "# gather our predictions\n",
    "rbf_pred = svcrbf.predict(X_test)"
   ]
  },
  {
   "cell_type": "code",
   "execution_count": 93,
   "id": "e1c25b26",
   "metadata": {},
   "outputs": [
    {
     "name": "stdout",
     "output_type": "stream",
     "text": [
      "Training Accuracy: 99.99852175969725 %\n",
      "Testing Accuracy: 99.99408703878902 %\n",
      "Number of Iterations: 374\n"
     ]
    }
   ],
   "source": [
    "# Print our training and testing accuracy scores for the rbf model\n",
    "print(\"Training Accuracy:\", svcrbf.score(X_train, y_train)*100,\"%\")\n",
    "print(\"Testing Accuracy:\", (accuracy_score(rbf_pred, y_test)*100),\"%\")\n",
    "print(\"Number of Iterations:\", svcrbf.n_iter_[0])"
   ]
  },
  {
   "cell_type": "code",
   "execution_count": 94,
   "id": "084c6af7",
   "metadata": {},
   "outputs": [
    {
     "data": {
      "text/plain": [
       "(242, 118)"
      ]
     },
     "execution_count": 94,
     "metadata": {},
     "output_type": "execute_result"
    }
   ],
   "source": [
    "# Look at the size of the support vectors\n",
    "S2 = svcrbf.support_vectors_\n",
    "S2.shape"
   ]
  },
  {
   "cell_type": "markdown",
   "id": "24605200",
   "metadata": {},
   "source": [
    "## Observation\n",
    "\n",
    "The rbf kernel had even higher testing accuracy than the linear kernel. We also see that it used more support vectors than the linear model. That may have slowed the computation down a bit but it was not very noticeable."
   ]
  },
  {
   "cell_type": "markdown",
   "id": "b0c08579",
   "metadata": {},
   "source": [
    "## Testing using the Poly Kernel"
   ]
  },
  {
   "cell_type": "code",
   "execution_count": 95,
   "id": "e19121a9",
   "metadata": {},
   "outputs": [],
   "source": [
    "# create the classifier\n",
    "svcpoly = svm.SVC(kernel=\"poly\")"
   ]
  },
  {
   "cell_type": "code",
   "execution_count": 96,
   "id": "025e29d1",
   "metadata": {},
   "outputs": [
    {
     "name": "stdout",
     "output_type": "stream",
     "text": [
      "6.5 s ± 769 ms per loop (mean ± std. dev. of 7 runs, 1 loop each)\n"
     ]
    },
    {
     "data": {
      "text/html": [
       "<style>#sk-container-id-7 {color: black;background-color: white;}#sk-container-id-7 pre{padding: 0;}#sk-container-id-7 div.sk-toggleable {background-color: white;}#sk-container-id-7 label.sk-toggleable__label {cursor: pointer;display: block;width: 100%;margin-bottom: 0;padding: 0.3em;box-sizing: border-box;text-align: center;}#sk-container-id-7 label.sk-toggleable__label-arrow:before {content: \"▸\";float: left;margin-right: 0.25em;color: #696969;}#sk-container-id-7 label.sk-toggleable__label-arrow:hover:before {color: black;}#sk-container-id-7 div.sk-estimator:hover label.sk-toggleable__label-arrow:before {color: black;}#sk-container-id-7 div.sk-toggleable__content {max-height: 0;max-width: 0;overflow: hidden;text-align: left;background-color: #f0f8ff;}#sk-container-id-7 div.sk-toggleable__content pre {margin: 0.2em;color: black;border-radius: 0.25em;background-color: #f0f8ff;}#sk-container-id-7 input.sk-toggleable__control:checked~div.sk-toggleable__content {max-height: 200px;max-width: 100%;overflow: auto;}#sk-container-id-7 input.sk-toggleable__control:checked~label.sk-toggleable__label-arrow:before {content: \"▾\";}#sk-container-id-7 div.sk-estimator input.sk-toggleable__control:checked~label.sk-toggleable__label {background-color: #d4ebff;}#sk-container-id-7 div.sk-label input.sk-toggleable__control:checked~label.sk-toggleable__label {background-color: #d4ebff;}#sk-container-id-7 input.sk-hidden--visually {border: 0;clip: rect(1px 1px 1px 1px);clip: rect(1px, 1px, 1px, 1px);height: 1px;margin: -1px;overflow: hidden;padding: 0;position: absolute;width: 1px;}#sk-container-id-7 div.sk-estimator {font-family: monospace;background-color: #f0f8ff;border: 1px dotted black;border-radius: 0.25em;box-sizing: border-box;margin-bottom: 0.5em;}#sk-container-id-7 div.sk-estimator:hover {background-color: #d4ebff;}#sk-container-id-7 div.sk-parallel-item::after {content: \"\";width: 100%;border-bottom: 1px solid gray;flex-grow: 1;}#sk-container-id-7 div.sk-label:hover label.sk-toggleable__label {background-color: #d4ebff;}#sk-container-id-7 div.sk-serial::before {content: \"\";position: absolute;border-left: 1px solid gray;box-sizing: border-box;top: 0;bottom: 0;left: 50%;z-index: 0;}#sk-container-id-7 div.sk-serial {display: flex;flex-direction: column;align-items: center;background-color: white;padding-right: 0.2em;padding-left: 0.2em;position: relative;}#sk-container-id-7 div.sk-item {position: relative;z-index: 1;}#sk-container-id-7 div.sk-parallel {display: flex;align-items: stretch;justify-content: center;background-color: white;position: relative;}#sk-container-id-7 div.sk-item::before, #sk-container-id-7 div.sk-parallel-item::before {content: \"\";position: absolute;border-left: 1px solid gray;box-sizing: border-box;top: 0;bottom: 0;left: 50%;z-index: -1;}#sk-container-id-7 div.sk-parallel-item {display: flex;flex-direction: column;z-index: 1;position: relative;background-color: white;}#sk-container-id-7 div.sk-parallel-item:first-child::after {align-self: flex-end;width: 50%;}#sk-container-id-7 div.sk-parallel-item:last-child::after {align-self: flex-start;width: 50%;}#sk-container-id-7 div.sk-parallel-item:only-child::after {width: 0;}#sk-container-id-7 div.sk-dashed-wrapped {border: 1px dashed gray;margin: 0 0.4em 0.5em 0.4em;box-sizing: border-box;padding-bottom: 0.4em;background-color: white;}#sk-container-id-7 div.sk-label label {font-family: monospace;font-weight: bold;display: inline-block;line-height: 1.2em;}#sk-container-id-7 div.sk-label-container {text-align: center;}#sk-container-id-7 div.sk-container {/* jupyter's `normalize.less` sets `[hidden] { display: none; }` but bootstrap.min.css set `[hidden] { display: none !important; }` so we also need the `!important` here to be able to override the default hidden behavior on the sphinx rendered scikit-learn.org. See: https://github.com/scikit-learn/scikit-learn/issues/21755 */display: inline-block !important;position: relative;}#sk-container-id-7 div.sk-text-repr-fallback {display: none;}</style><div id=\"sk-container-id-7\" class=\"sk-top-container\"><div class=\"sk-text-repr-fallback\"><pre>SVC(kernel=&#x27;poly&#x27;)</pre><b>In a Jupyter environment, please rerun this cell to show the HTML representation or trust the notebook. <br />On GitHub, the HTML representation is unable to render, please try loading this page with nbviewer.org.</b></div><div class=\"sk-container\" hidden><div class=\"sk-item\"><div class=\"sk-estimator sk-toggleable\"><input class=\"sk-toggleable__control sk-hidden--visually\" id=\"sk-estimator-id-7\" type=\"checkbox\" checked><label for=\"sk-estimator-id-7\" class=\"sk-toggleable__label sk-toggleable__label-arrow\">SVC</label><div class=\"sk-toggleable__content\"><pre>SVC(kernel=&#x27;poly&#x27;)</pre></div></div></div></div></div>"
      ],
      "text/plain": [
       "SVC(kernel='poly')"
      ]
     },
     "execution_count": 96,
     "metadata": {},
     "output_type": "execute_result"
    }
   ],
   "source": [
    "# fit the model on the training data and time the execution\n",
    "%timeit svcpoly.fit(X_train,y_train)\n",
    "svcpoly.fit(X_train,y_train)"
   ]
  },
  {
   "cell_type": "code",
   "execution_count": 97,
   "id": "c77f049a",
   "metadata": {},
   "outputs": [],
   "source": [
    "# gather our predictions\n",
    "poly_pred = svcpoly.predict(X_test)"
   ]
  },
  {
   "cell_type": "code",
   "execution_count": 98,
   "id": "0bc28c28",
   "metadata": {},
   "outputs": [
    {
     "name": "stdout",
     "output_type": "stream",
     "text": [
      "Training Accuracy: 99.99556527909176 %\n",
      "Testing Accuracy: 99.99408703878902 %\n",
      "Number of Iterations: 458\n"
     ]
    }
   ],
   "source": [
    "# Print our training and testing accuracy scores for the poly model\n",
    "print(\"Training Accuracy:\", svcpoly.score(X_train, y_train)*100,\"%\")\n",
    "print(\"Testing Accuracy:\", (accuracy_score(poly_pred, y_test)*100),\"%\")\n",
    "print(\"Number of Iterations:\", svcpoly.n_iter_[0])"
   ]
  },
  {
   "cell_type": "code",
   "execution_count": 99,
   "id": "10ebbc7d",
   "metadata": {},
   "outputs": [
    {
     "data": {
      "text/plain": [
       "(302, 118)"
      ]
     },
     "execution_count": 99,
     "metadata": {},
     "output_type": "execute_result"
    }
   ],
   "source": [
    "# Look at the size of the support vectors\n",
    "S3 = svcpoly.support_vectors_\n",
    "S3.shape"
   ]
  },
  {
   "cell_type": "markdown",
   "id": "bd649d83",
   "metadata": {},
   "source": [
    "### Observation\n",
    "\n",
    "While slower than the previous two kernels, the polynomial kernal provided the same high accuracy as the rbf kernal. It did this using slightly more support vectors than rbf (302 vs 242, respectively). We timed our code using the magic command timeit. This allowed us to capture each kernel's execution time for the fit method."
   ]
  },
  {
   "cell_type": "markdown",
   "id": "1b02cac1",
   "metadata": {},
   "source": [
    "## Testing using the Sigmoid Kernal"
   ]
  },
  {
   "cell_type": "code",
   "execution_count": 100,
   "id": "42114c03",
   "metadata": {},
   "outputs": [],
   "source": [
    "# create the classifier\n",
    "svcsigmoid = svm.SVC(kernel=\"sigmoid\")"
   ]
  },
  {
   "cell_type": "code",
   "execution_count": 101,
   "id": "2d0edda3",
   "metadata": {},
   "outputs": [
    {
     "name": "stdout",
     "output_type": "stream",
     "text": [
      "18 s ± 7.25 s per loop (mean ± std. dev. of 7 runs, 1 loop each)\n"
     ]
    },
    {
     "data": {
      "text/html": [
       "<style>#sk-container-id-8 {color: black;background-color: white;}#sk-container-id-8 pre{padding: 0;}#sk-container-id-8 div.sk-toggleable {background-color: white;}#sk-container-id-8 label.sk-toggleable__label {cursor: pointer;display: block;width: 100%;margin-bottom: 0;padding: 0.3em;box-sizing: border-box;text-align: center;}#sk-container-id-8 label.sk-toggleable__label-arrow:before {content: \"▸\";float: left;margin-right: 0.25em;color: #696969;}#sk-container-id-8 label.sk-toggleable__label-arrow:hover:before {color: black;}#sk-container-id-8 div.sk-estimator:hover label.sk-toggleable__label-arrow:before {color: black;}#sk-container-id-8 div.sk-toggleable__content {max-height: 0;max-width: 0;overflow: hidden;text-align: left;background-color: #f0f8ff;}#sk-container-id-8 div.sk-toggleable__content pre {margin: 0.2em;color: black;border-radius: 0.25em;background-color: #f0f8ff;}#sk-container-id-8 input.sk-toggleable__control:checked~div.sk-toggleable__content {max-height: 200px;max-width: 100%;overflow: auto;}#sk-container-id-8 input.sk-toggleable__control:checked~label.sk-toggleable__label-arrow:before {content: \"▾\";}#sk-container-id-8 div.sk-estimator input.sk-toggleable__control:checked~label.sk-toggleable__label {background-color: #d4ebff;}#sk-container-id-8 div.sk-label input.sk-toggleable__control:checked~label.sk-toggleable__label {background-color: #d4ebff;}#sk-container-id-8 input.sk-hidden--visually {border: 0;clip: rect(1px 1px 1px 1px);clip: rect(1px, 1px, 1px, 1px);height: 1px;margin: -1px;overflow: hidden;padding: 0;position: absolute;width: 1px;}#sk-container-id-8 div.sk-estimator {font-family: monospace;background-color: #f0f8ff;border: 1px dotted black;border-radius: 0.25em;box-sizing: border-box;margin-bottom: 0.5em;}#sk-container-id-8 div.sk-estimator:hover {background-color: #d4ebff;}#sk-container-id-8 div.sk-parallel-item::after {content: \"\";width: 100%;border-bottom: 1px solid gray;flex-grow: 1;}#sk-container-id-8 div.sk-label:hover label.sk-toggleable__label {background-color: #d4ebff;}#sk-container-id-8 div.sk-serial::before {content: \"\";position: absolute;border-left: 1px solid gray;box-sizing: border-box;top: 0;bottom: 0;left: 50%;z-index: 0;}#sk-container-id-8 div.sk-serial {display: flex;flex-direction: column;align-items: center;background-color: white;padding-right: 0.2em;padding-left: 0.2em;position: relative;}#sk-container-id-8 div.sk-item {position: relative;z-index: 1;}#sk-container-id-8 div.sk-parallel {display: flex;align-items: stretch;justify-content: center;background-color: white;position: relative;}#sk-container-id-8 div.sk-item::before, #sk-container-id-8 div.sk-parallel-item::before {content: \"\";position: absolute;border-left: 1px solid gray;box-sizing: border-box;top: 0;bottom: 0;left: 50%;z-index: -1;}#sk-container-id-8 div.sk-parallel-item {display: flex;flex-direction: column;z-index: 1;position: relative;background-color: white;}#sk-container-id-8 div.sk-parallel-item:first-child::after {align-self: flex-end;width: 50%;}#sk-container-id-8 div.sk-parallel-item:last-child::after {align-self: flex-start;width: 50%;}#sk-container-id-8 div.sk-parallel-item:only-child::after {width: 0;}#sk-container-id-8 div.sk-dashed-wrapped {border: 1px dashed gray;margin: 0 0.4em 0.5em 0.4em;box-sizing: border-box;padding-bottom: 0.4em;background-color: white;}#sk-container-id-8 div.sk-label label {font-family: monospace;font-weight: bold;display: inline-block;line-height: 1.2em;}#sk-container-id-8 div.sk-label-container {text-align: center;}#sk-container-id-8 div.sk-container {/* jupyter's `normalize.less` sets `[hidden] { display: none; }` but bootstrap.min.css set `[hidden] { display: none !important; }` so we also need the `!important` here to be able to override the default hidden behavior on the sphinx rendered scikit-learn.org. See: https://github.com/scikit-learn/scikit-learn/issues/21755 */display: inline-block !important;position: relative;}#sk-container-id-8 div.sk-text-repr-fallback {display: none;}</style><div id=\"sk-container-id-8\" class=\"sk-top-container\"><div class=\"sk-text-repr-fallback\"><pre>SVC(kernel=&#x27;sigmoid&#x27;)</pre><b>In a Jupyter environment, please rerun this cell to show the HTML representation or trust the notebook. <br />On GitHub, the HTML representation is unable to render, please try loading this page with nbviewer.org.</b></div><div class=\"sk-container\" hidden><div class=\"sk-item\"><div class=\"sk-estimator sk-toggleable\"><input class=\"sk-toggleable__control sk-hidden--visually\" id=\"sk-estimator-id-8\" type=\"checkbox\" checked><label for=\"sk-estimator-id-8\" class=\"sk-toggleable__label sk-toggleable__label-arrow\">SVC</label><div class=\"sk-toggleable__content\"><pre>SVC(kernel=&#x27;sigmoid&#x27;)</pre></div></div></div></div></div>"
      ],
      "text/plain": [
       "SVC(kernel='sigmoid')"
      ]
     },
     "execution_count": 101,
     "metadata": {},
     "output_type": "execute_result"
    }
   ],
   "source": [
    "# fit the model on the training data and time the execution\n",
    "%timeit svcsigmoid.fit(X_train,y_train)\n",
    "svcsigmoid.fit(X_train,y_train)"
   ]
  },
  {
   "cell_type": "code",
   "execution_count": 102,
   "id": "53234d4e",
   "metadata": {},
   "outputs": [],
   "source": [
    "# gather our predictions\n",
    "sigmoid_pred = svcsigmoid.predict(X_test)"
   ]
  },
  {
   "cell_type": "code",
   "execution_count": 103,
   "id": "a2c8bd13",
   "metadata": {},
   "outputs": [
    {
     "name": "stdout",
     "output_type": "stream",
     "text": [
      "Training Accuracy: 99.87287133396406 %\n",
      "Testing Accuracy: 99.85808893093662 %\n",
      "Number of Iterations: 687\n"
     ]
    }
   ],
   "source": [
    "# Print our training and testing accuracy scores for the poly model\n",
    "print(\"Training Accuracy:\", svcsigmoid.score(X_train, y_train)*100,\"%\")\n",
    "print(\"Testing Accuracy:\", (accuracy_score(sigmoid_pred, y_test)*100),\"%\")\n",
    "print(\"Number of Iterations:\", svcsigmoid.n_iter_[0])"
   ]
  },
  {
   "cell_type": "code",
   "execution_count": 104,
   "id": "76a183e2",
   "metadata": {},
   "outputs": [
    {
     "data": {
      "text/plain": [
       "(494, 118)"
      ]
     },
     "execution_count": 104,
     "metadata": {},
     "output_type": "execute_result"
    }
   ],
   "source": [
    "# Look at the size of the support vectors\n",
    "S4 = svcsigmoid.support_vectors_\n",
    "S4.shape"
   ]
  },
  {
   "cell_type": "markdown",
   "id": "8271c73b",
   "metadata": {},
   "source": [
    "## Observation\n",
    "\n",
    "Out of the four kernels tested, sigmoid performed the worst in accuracy at 99.86%. It needed the highest number of iterations to converge and was the slowest to compute the fit. It also required the most support vectors of the four models at 494. "
   ]
  },
  {
   "cell_type": "markdown",
   "id": "4e6b1900",
   "metadata": {},
   "source": [
    "## Pros and Cons of Different Kernels\n",
    "\n",
    "Generally speaking, the linear kernel is the fastest of the four kernels. It is best suited for linearly separable classification problems and works very well when there are a lot of features. The polynomial kernel is a generalized version of the linear kernel that is usually less efficient and less accurate. The Gaussian Radial Basis Function (RBF) is the most frequently used of the four kernels. It is well-suited for non-linear classification problems. Finally, the sigmoid kernel is mostly used for neural networks.\n",
    "\n",
    "More specific to the results shown in this analysis, we found sigmoid to be the slowest and most inaccurate kernel for our dataset. Both RBF and the polynomial performed the best in terms of accuracy reaching ~ 99.99%. The linear kernel was by far the fastest but had the second lowest accuracy.\n",
    "\n",
    "Each of these kernels have their benefits and disadvantages. However, the most important indicator is whether they are appropriate for a specific use case. The linear kernel is fast, simple, and scalable. It will work marvelously for linearly separable data. Conversly, RBF can work for both linear and non-linear data. Given a choice between the two, the linear kernel is prefered for linearly separable data. If the data is non-linear, then RBF is an excellent choice and recommended. It projects the data to a higher dimensional space where it can identify a linear separation between the data. This works well but at a cost of computational intensity and complexity. Therefore, RBF has a harder time when there are a lot of features because of the expensive transformations and computations that it performs. In conclusion, the linear kernel should be used for linear problems and RBF for non-linear in most cases."
   ]
  },
  {
   "cell_type": "markdown",
   "id": "35008476",
   "metadata": {},
   "source": [
    "## Plotting the Decision Boundary for Two Important Features\n",
    "\n",
    "We will take a look at the absolute coefficients for the linear kernels to identify the top two features. While these do not mean exactly the same things as they do for logistic regressions, it is still informative for the linear kernel. Based on our previous analysis using the linear kernel and our own security knowledge, we believe that dst_host_serror_rate and diff_srv_rate are the two most important features for this dataset."
   ]
  },
  {
   "cell_type": "code",
   "execution_count": 147,
   "id": "d0ca5e84",
   "metadata": {},
   "outputs": [
    {
     "data": {
      "text/html": [
       "<div>\n",
       "<style scoped>\n",
       "    .dataframe tbody tr th:only-of-type {\n",
       "        vertical-align: middle;\n",
       "    }\n",
       "\n",
       "    .dataframe tbody tr th {\n",
       "        vertical-align: top;\n",
       "    }\n",
       "\n",
       "    .dataframe thead th {\n",
       "        text-align: right;\n",
       "    }\n",
       "</style>\n",
       "<table border=\"1\" class=\"dataframe\">\n",
       "  <thead>\n",
       "    <tr style=\"text-align: right;\">\n",
       "      <th></th>\n",
       "      <th>Features</th>\n",
       "    </tr>\n",
       "  </thead>\n",
       "  <tbody>\n",
       "    <tr>\n",
       "      <th>dst_host_serror_rate</th>\n",
       "      <td>3.141208</td>\n",
       "    </tr>\n",
       "    <tr>\n",
       "      <th>diff_srv_rate</th>\n",
       "      <td>2.481120</td>\n",
       "    </tr>\n",
       "    <tr>\n",
       "      <th>dst_host_rerror_rate</th>\n",
       "      <td>2.368341</td>\n",
       "    </tr>\n",
       "    <tr>\n",
       "      <th>dst_host_same_src_port_rate</th>\n",
       "      <td>1.873802</td>\n",
       "    </tr>\n",
       "    <tr>\n",
       "      <th>dst_host_diff_srv_rate</th>\n",
       "      <td>1.702648</td>\n",
       "    </tr>\n",
       "    <tr>\n",
       "      <th>wrong_fragment</th>\n",
       "      <td>1.632877</td>\n",
       "    </tr>\n",
       "    <tr>\n",
       "      <th>enc_ecr_i</th>\n",
       "      <td>1.623692</td>\n",
       "    </tr>\n",
       "    <tr>\n",
       "      <th>dst_host_srv_count</th>\n",
       "      <td>1.506968</td>\n",
       "    </tr>\n",
       "    <tr>\n",
       "      <th>dst_host_srv_serror_rate</th>\n",
       "      <td>1.411456</td>\n",
       "    </tr>\n",
       "    <tr>\n",
       "      <th>num_failed_logins</th>\n",
       "      <td>1.322999</td>\n",
       "    </tr>\n",
       "  </tbody>\n",
       "</table>\n",
       "</div>"
      ],
      "text/plain": [
       "                             Features\n",
       "dst_host_serror_rate         3.141208\n",
       "diff_srv_rate                2.481120\n",
       "dst_host_rerror_rate         2.368341\n",
       "dst_host_same_src_port_rate  1.873802\n",
       "dst_host_diff_srv_rate       1.702648\n",
       "wrong_fragment               1.632877\n",
       "enc_ecr_i                    1.623692\n",
       "dst_host_srv_count           1.506968\n",
       "dst_host_srv_serror_rate     1.411456\n",
       "num_failed_logins            1.322999"
      ]
     },
     "execution_count": 147,
     "metadata": {},
     "output_type": "execute_result"
    }
   ],
   "source": [
    "# top features for the linear kernel\n",
    "\n",
    "# map feature names to coeff in a df\n",
    "linear_coef = pd.DataFrame(data=abs(svclinear.coef_),columns=feature_names)\n",
    "# transpose the df for better readibility\n",
    "linear_coef = linear_coef.T\n",
    "linear_coef.rename(columns={0:\"Features\"},inplace=True)\n",
    "# sort by top coeff values\n",
    "top_linear = linear_coef.sort_values(by=\"Features\",ascending=False).head(10)\n",
    "top_linear"
   ]
  },
  {
   "cell_type": "code",
   "execution_count": 106,
   "id": "ddfc20b2",
   "metadata": {},
   "outputs": [],
   "source": [
    "# Assign new X and Y variables for the decision boundary\n",
    "\n",
    "y2 = df2.iloc[:, -1].values\n",
    "y2 = np.where((y2 == \"back.\") | (y2 == \"land.\") | (y2 == \"neptune.\") | (y2 ==\"pod.\") | \n",
    "              (y2 ==\"smurf.\") | (y2 ==\"teardrop.\"), 1, 0)\n",
    "# only grab the two columns we are interest in: dst_host_serror_rate and diff_srv_rate\n",
    "X2 = df2.loc[:,(\"dst_host_serror_rate\", \"diff_srv_rate\")]"
   ]
  },
  {
   "cell_type": "code",
   "execution_count": 107,
   "id": "93afda48",
   "metadata": {},
   "outputs": [],
   "source": [
    "# undersample the data with only two features\n",
    "rus2 = RandomUnderSampler(random_state=0)\n",
    "\n",
    "X_res2, y_res2 = rus2.fit_resample(X2, y2)"
   ]
  },
  {
   "cell_type": "code",
   "execution_count": 108,
   "id": "f47113ee",
   "metadata": {},
   "outputs": [],
   "source": [
    "# split the data into an 80/20 training/testing division\n",
    "X_train2, X_test2, y_train2, y_test2 = train_test_split(X_res2, y_res2, test_size=0.20, random_state=0)"
   ]
  },
  {
   "cell_type": "code",
   "execution_count": 109,
   "id": "7b800569",
   "metadata": {},
   "outputs": [
    {
     "name": "stdout",
     "output_type": "stream",
     "text": [
      "Size of X_train2: (67648, 2) Size of Y_train2: (67648,)\n",
      "Size of X_test2: (16912, 2) Size of Y_test2: (16912,)\n"
     ]
    }
   ],
   "source": [
    "# Size of each sample\n",
    "print(\"Size of X_train2:\",X_train2.shape, \"Size of Y_train2:\", y_train2.shape)\n",
    "print(\"Size of X_test2:\",X_test2.shape, \"Size of Y_test2:\", y_test2.shape)"
   ]
  },
  {
   "cell_type": "code",
   "execution_count": 110,
   "id": "1b935b4f",
   "metadata": {},
   "outputs": [
    {
     "data": {
      "text/plain": [
       "Index(['dst_host_serror_rate', 'diff_srv_rate'], dtype='object')"
      ]
     },
     "execution_count": 110,
     "metadata": {},
     "output_type": "execute_result"
    }
   ],
   "source": [
    "decision_features = X_train2.columns\n",
    "decision_features"
   ]
  },
  {
   "cell_type": "code",
   "execution_count": 111,
   "id": "37679007",
   "metadata": {},
   "outputs": [],
   "source": [
    "# Turn the training data into ndarrays for plotting\n",
    "X_train2 = X_train2.values"
   ]
  },
  {
   "cell_type": "code",
   "execution_count": 141,
   "id": "78907ac3",
   "metadata": {},
   "outputs": [],
   "source": [
    "# we create an instance of SVM and fit our data\n",
    "svc_linear = svm.SVC(kernel='linear').fit(X_train2, y_train2)\n",
    "rbf_svc = svm.SVC(kernel='rbf').fit(X_train2, y_train2)"
   ]
  },
  {
   "cell_type": "code",
   "execution_count": 142,
   "id": "f5c766c1",
   "metadata": {},
   "outputs": [
    {
     "name": "stdout",
     "output_type": "stream",
     "text": [
      "Linear\n",
      " Train: 0.7050023651844843 Test: 0.7076631977294229\n"
     ]
    }
   ],
   "source": [
    "# test accuracy of the two features\n",
    "print(\"Linear\\n\",\"Train:\",svc_linear.score(X_train2, y_train2),\"Test:\",svc_linear.score(X_test2.values, y_test2))"
   ]
  },
  {
   "cell_type": "code",
   "execution_count": 143,
   "id": "60dfad62",
   "metadata": {},
   "outputs": [
    {
     "name": "stdout",
     "output_type": "stream",
     "text": [
      "RBF\n",
      " Train: 0.7262446783349101 Test: 0.7317289498580889\n"
     ]
    }
   ],
   "source": [
    "print(\"RBF\\n\",\"Train:\",rbf_svc.score(X_train2, y_train2),\"Test:\",rbf_svc.score(X_test2.values, y_test2))"
   ]
  },
  {
   "cell_type": "markdown",
   "id": "67338d60",
   "metadata": {},
   "source": [
    "### Observation\n",
    "\n",
    "After fitting the linear and RBF kernels with the training data, we can see the accuracy scores. Despite using the top two features by highest linear coefficients, we see that the accuracy hovers around 70 percent which is comparatively low to the previous kernels with all features. This makes sense given that the weights were relatively even among the top 10 features so using only two of them should not yield very high accuracy."
   ]
  },
  {
   "cell_type": "markdown",
   "id": "0809d188",
   "metadata": {},
   "source": [
    "Next we will plot these two features to see the decision boundary."
   ]
  },
  {
   "cell_type": "code",
   "execution_count": 112,
   "id": "8d45c0f4",
   "metadata": {},
   "outputs": [
    {
     "data": {
      "image/png": "[encoded data removed]",
      "text/plain": [
       "<Figure size 640x480 with 2 Axes>"
      ]
     },
     "metadata": {},
     "output_type": "display_data"
    }
   ],
   "source": [
    "# visualize the decision boundary using the two features\n",
    "\n",
    "h = .02  # step size in the mesh\n",
    "\n",
    "# create a mesh to plot in\n",
    "x_min, x_max = X_train2[:, 0].min() - 1, X_train2[:, 0].max() + 1\n",
    "y_min, y_max = X_train2[:, 1].min() - 1, X_train2[:, 1].max() + 1\n",
    "xx, yy = np.meshgrid(np.arange(x_min, x_max, h),\n",
    "                     np.arange(y_min, y_max, h))\n",
    "\n",
    "# title for the plots\n",
    "titles = ['SVC with linear kernel',\n",
    "          'SVC with RBF kernel']\n",
    "\n",
    "for i, clf in enumerate((svc_linear, rbf_svc)):\n",
    "    # Plot the decision boundary. For that, we will assign a color to each point in the mesh [x_min, x_max]x[y_min, y_max].\n",
    "    plt.subplot(1, 2, i + 1)\n",
    "    plt.subplots_adjust(wspace=0.4, hspace=0.4)\n",
    "\n",
    "    Z = clf.predict(np.c_[xx.ravel(), yy.ravel()])\n",
    "\n",
    "    # Put the result into a color plot\n",
    "    Z = Z.reshape(xx.shape)\n",
    "    plt.contourf(xx, yy, Z, cmap=plt.cm.coolwarm, alpha=0.8)\n",
    "\n",
    "    # Plot also the training points\n",
    "    plt.scatter(X_train2[:,0], X_train2[:, 1], c=y_train2, cmap=plt.cm.coolwarm)\n",
    "    plt.xlabel(decision_features[0])\n",
    "    plt.ylabel(decision_features[1])\n",
    "    plt.xlim(xx.min(), xx.max())\n",
    "    plt.ylim(yy.min(), yy.max())\n",
    "    plt.xticks(())\n",
    "    plt.yticks(())\n",
    "    plt.title(titles[i])\n",
    "\n",
    "plt.show()"
   ]
  },
  {
   "cell_type": "markdown",
   "id": "a01aa0bf",
   "metadata": {},
   "source": [
    "## Observation\n",
    "\n",
    "The decision boundary for both kernels takes an interesting shape. These two features do not appear to be linearly separable so a line drawn between them cannot classify all of them correctly. The red dots appear to be primarily wrong for the left plot. The plot on the right for the RBF implies that most of the blue was classified correctly and a good chunk of the red was also captured with the ovals. This highly non-linear approach seems to predict better. We see that manifested in the accuracy scores. However, we would have expected RBF to produce a much higher score given the visualization. Let us try two different features to see what happens."
   ]
  },
  {
   "cell_type": "markdown",
   "id": "a2c61a1e",
   "metadata": {},
   "source": [
    "Let us take two of the worst non-zero features by linear coefficient. We end up with dst_bytes and src_bytes."
   ]
  },
  {
   "cell_type": "code",
   "execution_count": 129,
   "id": "89ba190a",
   "metadata": {},
   "outputs": [
    {
     "data": {
      "text/html": [
       "<div>\n",
       "<style scoped>\n",
       "    .dataframe tbody tr th:only-of-type {\n",
       "        vertical-align: middle;\n",
       "    }\n",
       "\n",
       "    .dataframe tbody tr th {\n",
       "        vertical-align: top;\n",
       "    }\n",
       "\n",
       "    .dataframe thead th {\n",
       "        text-align: right;\n",
       "    }\n",
       "</style>\n",
       "<table border=\"1\" class=\"dataframe\">\n",
       "  <thead>\n",
       "    <tr style=\"text-align: right;\">\n",
       "      <th></th>\n",
       "      <th>Features</th>\n",
       "    </tr>\n",
       "  </thead>\n",
       "  <tbody>\n",
       "    <tr>\n",
       "      <th>enc_exec</th>\n",
       "      <td>0.000000</td>\n",
       "    </tr>\n",
       "    <tr>\n",
       "      <th>enc_nntp</th>\n",
       "      <td>0.000000</td>\n",
       "    </tr>\n",
       "    <tr>\n",
       "      <th>enc_netstat</th>\n",
       "      <td>0.000000</td>\n",
       "    </tr>\n",
       "    <tr>\n",
       "      <th>enc_netbios_ns</th>\n",
       "      <td>0.000000</td>\n",
       "    </tr>\n",
       "    <tr>\n",
       "      <th>enc_netbios_dgm</th>\n",
       "      <td>0.000000</td>\n",
       "    </tr>\n",
       "    <tr>\n",
       "      <th>enc_name</th>\n",
       "      <td>0.000000</td>\n",
       "    </tr>\n",
       "    <tr>\n",
       "      <th>enc_mtp</th>\n",
       "      <td>0.000000</td>\n",
       "    </tr>\n",
       "    <tr>\n",
       "      <th>enc_login</th>\n",
       "      <td>0.000000</td>\n",
       "    </tr>\n",
       "    <tr>\n",
       "      <th>enc_ldap</th>\n",
       "      <td>0.000000</td>\n",
       "    </tr>\n",
       "    <tr>\n",
       "      <th>enc_klogin</th>\n",
       "      <td>0.000000</td>\n",
       "    </tr>\n",
       "    <tr>\n",
       "      <th>enc_iso_tsap</th>\n",
       "      <td>0.000000</td>\n",
       "    </tr>\n",
       "    <tr>\n",
       "      <th>enc_IRC</th>\n",
       "      <td>0.000000</td>\n",
       "    </tr>\n",
       "    <tr>\n",
       "      <th>enc_X11</th>\n",
       "      <td>0.000000</td>\n",
       "    </tr>\n",
       "    <tr>\n",
       "      <th>enc_other</th>\n",
       "      <td>0.000000</td>\n",
       "    </tr>\n",
       "    <tr>\n",
       "      <th>enc_http_8001</th>\n",
       "      <td>0.000000</td>\n",
       "    </tr>\n",
       "    <tr>\n",
       "      <th>enc_auth</th>\n",
       "      <td>0.000000</td>\n",
       "    </tr>\n",
       "    <tr>\n",
       "      <th>enc_bgp</th>\n",
       "      <td>0.000000</td>\n",
       "    </tr>\n",
       "    <tr>\n",
       "      <th>enc_courier</th>\n",
       "      <td>0.000000</td>\n",
       "    </tr>\n",
       "    <tr>\n",
       "      <th>enc_csnet_ns</th>\n",
       "      <td>0.000000</td>\n",
       "    </tr>\n",
       "    <tr>\n",
       "      <th>enc_ctf</th>\n",
       "      <td>0.000000</td>\n",
       "    </tr>\n",
       "    <tr>\n",
       "      <th>enc_daytime</th>\n",
       "      <td>0.000000</td>\n",
       "    </tr>\n",
       "    <tr>\n",
       "      <th>enc_http_2784</th>\n",
       "      <td>0.000000</td>\n",
       "    </tr>\n",
       "    <tr>\n",
       "      <th>enc_domain</th>\n",
       "      <td>0.000000</td>\n",
       "    </tr>\n",
       "    <tr>\n",
       "      <th>enc_domain_u</th>\n",
       "      <td>0.000000</td>\n",
       "    </tr>\n",
       "    <tr>\n",
       "      <th>enc_echo</th>\n",
       "      <td>0.000000</td>\n",
       "    </tr>\n",
       "    <tr>\n",
       "      <th>enc_hostnames</th>\n",
       "      <td>0.000000</td>\n",
       "    </tr>\n",
       "    <tr>\n",
       "      <th>enc_harvest</th>\n",
       "      <td>0.000000</td>\n",
       "    </tr>\n",
       "    <tr>\n",
       "      <th>enc_aol</th>\n",
       "      <td>0.000000</td>\n",
       "    </tr>\n",
       "    <tr>\n",
       "      <th>enc_gopher</th>\n",
       "      <td>0.000000</td>\n",
       "    </tr>\n",
       "    <tr>\n",
       "      <th>enc_pm_dump</th>\n",
       "      <td>0.000000</td>\n",
       "    </tr>\n",
       "    <tr>\n",
       "      <th>enc_pop_3</th>\n",
       "      <td>0.000000</td>\n",
       "    </tr>\n",
       "    <tr>\n",
       "      <th>land</th>\n",
       "      <td>0.000000</td>\n",
       "    </tr>\n",
       "    <tr>\n",
       "      <th>enc_S3</th>\n",
       "      <td>0.000000</td>\n",
       "    </tr>\n",
       "    <tr>\n",
       "      <th>urgent</th>\n",
       "      <td>0.000000</td>\n",
       "    </tr>\n",
       "    <tr>\n",
       "      <th>enc_S2</th>\n",
       "      <td>0.000000</td>\n",
       "    </tr>\n",
       "    <tr>\n",
       "      <th>enc_OTH</th>\n",
       "      <td>0.000000</td>\n",
       "    </tr>\n",
       "    <tr>\n",
       "      <th>enc_whois</th>\n",
       "      <td>0.000000</td>\n",
       "    </tr>\n",
       "    <tr>\n",
       "      <th>enc_vmnet</th>\n",
       "      <td>0.000000</td>\n",
       "    </tr>\n",
       "    <tr>\n",
       "      <th>su_attempted</th>\n",
       "      <td>0.000000</td>\n",
       "    </tr>\n",
       "    <tr>\n",
       "      <th>enc_uucp_path</th>\n",
       "      <td>0.000000</td>\n",
       "    </tr>\n",
       "    <tr>\n",
       "      <th>enc_pop_2</th>\n",
       "      <td>0.000000</td>\n",
       "    </tr>\n",
       "    <tr>\n",
       "      <th>num_shells</th>\n",
       "      <td>0.000000</td>\n",
       "    </tr>\n",
       "    <tr>\n",
       "      <th>enc_uucp</th>\n",
       "      <td>0.000000</td>\n",
       "    </tr>\n",
       "    <tr>\n",
       "      <th>num_outbound_cmds</th>\n",
       "      <td>0.000000</td>\n",
       "    </tr>\n",
       "    <tr>\n",
       "      <th>is_host_login</th>\n",
       "      <td>0.000000</td>\n",
       "    </tr>\n",
       "    <tr>\n",
       "      <th>enc_time</th>\n",
       "      <td>0.000000</td>\n",
       "    </tr>\n",
       "    <tr>\n",
       "      <th>enc_tim_i</th>\n",
       "      <td>0.000000</td>\n",
       "    </tr>\n",
       "    <tr>\n",
       "      <th>enc_systat</th>\n",
       "      <td>0.000000</td>\n",
       "    </tr>\n",
       "    <tr>\n",
       "      <th>enc_supdup</th>\n",
       "      <td>0.000000</td>\n",
       "    </tr>\n",
       "    <tr>\n",
       "      <th>enc_sunrpc</th>\n",
       "      <td>0.000000</td>\n",
       "    </tr>\n",
       "    <tr>\n",
       "      <th>enc_ssh</th>\n",
       "      <td>0.000000</td>\n",
       "    </tr>\n",
       "    <tr>\n",
       "      <th>enc_sql_net</th>\n",
       "      <td>0.000000</td>\n",
       "    </tr>\n",
       "    <tr>\n",
       "      <th>enc_rje</th>\n",
       "      <td>0.000000</td>\n",
       "    </tr>\n",
       "    <tr>\n",
       "      <th>enc_remote_job</th>\n",
       "      <td>0.000000</td>\n",
       "    </tr>\n",
       "    <tr>\n",
       "      <th>enc_urp_i</th>\n",
       "      <td>0.000000</td>\n",
       "    </tr>\n",
       "    <tr>\n",
       "      <th>enc_finger</th>\n",
       "      <td>0.000000</td>\n",
       "    </tr>\n",
       "    <tr>\n",
       "      <th>dst_bytes</th>\n",
       "      <td>0.000103</td>\n",
       "    </tr>\n",
       "    <tr>\n",
       "      <th>src_bytes</th>\n",
       "      <td>0.000120</td>\n",
       "    </tr>\n",
       "    <tr>\n",
       "      <th>hot</th>\n",
       "      <td>0.001663</td>\n",
       "    </tr>\n",
       "    <tr>\n",
       "      <th>duration</th>\n",
       "      <td>0.002103</td>\n",
       "    </tr>\n",
       "  </tbody>\n",
       "</table>\n",
       "</div>"
      ],
      "text/plain": [
       "                   Features\n",
       "enc_exec           0.000000\n",
       "enc_nntp           0.000000\n",
       "enc_netstat        0.000000\n",
       "enc_netbios_ns     0.000000\n",
       "enc_netbios_dgm    0.000000\n",
       "enc_name           0.000000\n",
       "enc_mtp            0.000000\n",
       "enc_login          0.000000\n",
       "enc_ldap           0.000000\n",
       "enc_klogin         0.000000\n",
       "enc_iso_tsap       0.000000\n",
       "enc_IRC            0.000000\n",
       "enc_X11            0.000000\n",
       "enc_other          0.000000\n",
       "enc_http_8001      0.000000\n",
       "enc_auth           0.000000\n",
       "enc_bgp            0.000000\n",
       "enc_courier        0.000000\n",
       "enc_csnet_ns       0.000000\n",
       "enc_ctf            0.000000\n",
       "enc_daytime        0.000000\n",
       "enc_http_2784      0.000000\n",
       "enc_domain         0.000000\n",
       "enc_domain_u       0.000000\n",
       "enc_echo           0.000000\n",
       "enc_hostnames      0.000000\n",
       "enc_harvest        0.000000\n",
       "enc_aol            0.000000\n",
       "enc_gopher         0.000000\n",
       "enc_pm_dump        0.000000\n",
       "enc_pop_3          0.000000\n",
       "land               0.000000\n",
       "enc_S3             0.000000\n",
       "urgent             0.000000\n",
       "enc_S2             0.000000\n",
       "enc_OTH            0.000000\n",
       "enc_whois          0.000000\n",
       "enc_vmnet          0.000000\n",
       "su_attempted       0.000000\n",
       "enc_uucp_path      0.000000\n",
       "enc_pop_2          0.000000\n",
       "num_shells         0.000000\n",
       "enc_uucp           0.000000\n",
       "num_outbound_cmds  0.000000\n",
       "is_host_login      0.000000\n",
       "enc_time           0.000000\n",
       "enc_tim_i          0.000000\n",
       "enc_systat         0.000000\n",
       "enc_supdup         0.000000\n",
       "enc_sunrpc         0.000000\n",
       "enc_ssh            0.000000\n",
       "enc_sql_net        0.000000\n",
       "enc_rje            0.000000\n",
       "enc_remote_job     0.000000\n",
       "enc_urp_i          0.000000\n",
       "enc_finger         0.000000\n",
       "dst_bytes          0.000103\n",
       "src_bytes          0.000120\n",
       "hot                0.001663\n",
       "duration           0.002103"
      ]
     },
     "execution_count": 129,
     "metadata": {},
     "output_type": "execute_result"
    }
   ],
   "source": [
    "# map feature names to coeff in a df\n",
    "linear_coef2 = pd.DataFrame(data=abs(svclinear.coef_),columns=feature_names)\n",
    "# transpose the df for better readibility\n",
    "linear_coef2 = linear_coef2.T\n",
    "linear_coef2.rename(columns={0:\"Features\"},inplace=True)\n",
    "# sort by lowest coeff values\n",
    "worst_linear = linear_coef.sort_values(by=\"Features\").head(60)\n",
    "worst_linear"
   ]
  },
  {
   "cell_type": "code",
   "execution_count": 130,
   "id": "a6902c70",
   "metadata": {},
   "outputs": [],
   "source": [
    "# Assign new X and Y variables for the decision boundary\n",
    "\n",
    "y3 = df2.iloc[:, -1].values\n",
    "y3 = np.where((y3 == \"back.\") | (y3 == \"land.\") | (y3 == \"neptune.\") | (y3 ==\"pod.\") | \n",
    "              (y3 ==\"smurf.\") | (y3 ==\"teardrop.\"), 1, 0)\n",
    "# only grab the two columns we are interest in: dst_host_serror_rate and diff_srv_rate\n",
    "X3 = df2.loc[:,(\"dst_bytes\", \"src_bytes\")]"
   ]
  },
  {
   "cell_type": "code",
   "execution_count": 131,
   "id": "97d5c7d5",
   "metadata": {},
   "outputs": [],
   "source": [
    "# We know that these two columns have a large variance so let's standardize them\n",
    "\n",
    "mms2 = MinMaxScaler()\n",
    "\n",
    "X3.iloc[:, :] = mms2.fit_transform(X3.values)"
   ]
  },
  {
   "cell_type": "code",
   "execution_count": 132,
   "id": "15df232c",
   "metadata": {},
   "outputs": [],
   "source": [
    "# undersample the data with only two features\n",
    "rus3 = RandomUnderSampler(random_state=0)\n",
    "\n",
    "X_res3, y_res3 = rus3.fit_resample(X3, y3)"
   ]
  },
  {
   "cell_type": "code",
   "execution_count": 133,
   "id": "05731d50",
   "metadata": {},
   "outputs": [],
   "source": [
    "# split the data into an 80/20 training/testing division\n",
    "X_train3, X_test3, y_train3, y_test3 = train_test_split(X_res3, y_res3, test_size=0.20, random_state=0)"
   ]
  },
  {
   "cell_type": "code",
   "execution_count": 134,
   "id": "20e835fc",
   "metadata": {},
   "outputs": [
    {
     "name": "stdout",
     "output_type": "stream",
     "text": [
      "Size of X_train3: (67648, 2) Size of Y_train3: (67648,)\n",
      "Size of X_test3: (16912, 2) Size of Y_test3: (16912,)\n"
     ]
    }
   ],
   "source": [
    "# Size of each sample\n",
    "print(\"Size of X_train3:\",X_train3.shape, \"Size of Y_train3:\", y_train3.shape)\n",
    "print(\"Size of X_test3:\",X_test3.shape, \"Size of Y_test3:\", y_test3.shape)"
   ]
  },
  {
   "cell_type": "code",
   "execution_count": 135,
   "id": "687c3c69",
   "metadata": {},
   "outputs": [
    {
     "data": {
      "text/plain": [
       "Index(['dst_bytes', 'src_bytes'], dtype='object')"
      ]
     },
     "execution_count": 135,
     "metadata": {},
     "output_type": "execute_result"
    }
   ],
   "source": [
    "# save the feature names for plotting\n",
    "decision_features2 = X_train3.columns\n",
    "decision_features2"
   ]
  },
  {
   "cell_type": "code",
   "execution_count": 136,
   "id": "6342cc0c",
   "metadata": {},
   "outputs": [],
   "source": [
    "# Turn the training data into ndarrays for plotting\n",
    "X_train3 = X_train3.values"
   ]
  },
  {
   "cell_type": "code",
   "execution_count": 137,
   "id": "db371714",
   "metadata": {},
   "outputs": [],
   "source": [
    "# we create an instance of SVM and fit our data\n",
    "svc_linear2 = svm.SVC(kernel='linear').fit(X_train3, y_train3)\n",
    "rbf_svc2 = svm.SVC(kernel='rbf').fit(X_train3, y_train3)"
   ]
  },
  {
   "cell_type": "code",
   "execution_count": 138,
   "id": "ccf009e6",
   "metadata": {},
   "outputs": [
    {
     "name": "stdout",
     "output_type": "stream",
     "text": [
      "Linear2\n",
      " Train: 0.5019808420056765 Test: 0.5080416272469253\n"
     ]
    }
   ],
   "source": [
    "# test accuracy of the two features\n",
    "print(\"Linear2\\n\",\"Train:\",svc_linear2.score(X_train3, y_train3),\"Test:\",svc_linear.score(X_test3.values, y_test3))"
   ]
  },
  {
   "cell_type": "code",
   "execution_count": 139,
   "id": "9841c248",
   "metadata": {},
   "outputs": [
    {
     "name": "stdout",
     "output_type": "stream",
     "text": [
      "RBF2\n",
      " Train: 0.5019808420056765 Test: 0.508100756859035\n"
     ]
    }
   ],
   "source": [
    "print(\"RBF2\\n\",\"Train:\",rbf_svc2.score(X_train3, y_train3),\"Test:\",rbf_svc.score(X_test3.values, y_test3))"
   ]
  },
  {
   "cell_type": "markdown",
   "id": "63b605e2",
   "metadata": {},
   "source": [
    "## Observation\n",
    "\n",
    "As expected, choosing such low weighted features did not result in an improvement in model accuracy. In fact, it drastically decreased. Therefore, it appears that the original two features that were chosen may have been the correct ones. Let us try to plot the decision boundary with these two features to compare the shape to our previous example."
   ]
  },
  {
   "cell_type": "code",
   "execution_count": 140,
   "id": "37a6613e",
   "metadata": {},
   "outputs": [
    {
     "data": {
      "image/png": "[encoded data removed]",
      "text/plain": [
       "<Figure size 640x480 with 2 Axes>"
      ]
     },
     "metadata": {},
     "output_type": "display_data"
    }
   ],
   "source": [
    "# visualize the decision boundary using the two lower performing features\n",
    "\n",
    "h = .02  # step size in the mesh\n",
    "\n",
    "# create a mesh to plot in\n",
    "x_min, x_max = X_train3[:, 0].min() - 1, X_train3[:, 0].max() + 1\n",
    "y_min, y_max = X_train3[:, 1].min() - 1, X_train3[:, 1].max() + 1\n",
    "xx, yy = np.meshgrid(np.arange(x_min, x_max, h),\n",
    "                     np.arange(y_min, y_max, h))\n",
    "\n",
    "# title for the plots\n",
    "titles = ['SVC with linear kernel2',\n",
    "          'SVC with RBF kernel2']\n",
    "\n",
    "for i, clf in enumerate((svc_linear2, rbf_svc2)):\n",
    "    # Plot the decision boundary. For that, we will assign a color to each point in the mesh [x_min, x_max]x[y_min, y_max].\n",
    "    plt.subplot(1, 2, i + 1)\n",
    "    plt.subplots_adjust(wspace=0.4, hspace=0.4)\n",
    "\n",
    "    Z = clf.predict(np.c_[xx.ravel(), yy.ravel()])\n",
    "\n",
    "    # Put the result into a color plot\n",
    "    Z = Z.reshape(xx.shape)\n",
    "    plt.contourf(xx, yy, Z, cmap=plt.cm.coolwarm, alpha=0.8)\n",
    "\n",
    "    # Plot also the training points\n",
    "    plt.scatter(X_train3[:,0], X_train3[:, 1], c=y_train3, cmap=plt.cm.coolwarm)\n",
    "    plt.xlabel(decision_features2[0])\n",
    "    plt.ylabel(decision_features2[1])\n",
    "    plt.xlim(xx.min(), xx.max())\n",
    "    plt.ylim(yy.min(), yy.max())\n",
    "    plt.xticks(())\n",
    "    plt.yticks(())\n",
    "    plt.title(titles[i])\n",
    "\n",
    "plt.show()"
   ]
  },
  {
   "cell_type": "markdown",
   "id": "e6851c55",
   "metadata": {},
   "source": [
    "## Observation\n",
    "\n",
    "The inability to draw a decision boundary by either kernel is expected. We saw previously that the accuracy was no better than a random coin flip. Here we can observe visually that these two features are very poor predictors of our classification. This supports our theory that the previous two features were the best predictors. To truly test that theory, we would need to test every combination of features. However, given the computational intensity and workload, it is beyond the scope of this analysis."
   ]
  },
  {
   "cell_type": "markdown",
   "id": "52da4650",
   "metadata": {},
   "source": [
    "# Summary\n",
    "\n",
    "This has been an exciting exploration into Support Vector Machines (SVM). The different kernel options allow them to be adaptable to different problems. It works for both linear and non-linear binary classification use cases. After working with logistic regression, SVM presents an entirely different approach to classification. It separates the two classes into separate categories and tries to maximize the space between them. If the problem is non-linear, SVM uses a \"kernel trick\" to map the points to a higher dimension where a linear separation can be made.\n",
    "\n",
    "For our dataset, RBF and poly were the most accurate kernels. The linear kernel was the fastest to converge while sigmoid was the worst performer. We used the coefficients and weights from the linear kernel to identify the two most important features. We then plotted them on a decision boundary. The result was unexpected as the RBF kernel's decision boundary appeared very accurate but the actual accuracy was mariginally better than that of the linear kernel.\n",
    "\n",
    "To test our methodology, we chose the two worst features with non-zero weights. This produced a roughly 50 percent accuracy. The decision boundary could not even be drawn for that exercise. We took this to mean that our original choice of top two features was best. Given the roughly proportional feature weights across dozens of features, it is likely that any two feature combination would not yield accuracy of 90 percent."
   ]
  }
 ],
 "metadata": {
  "kernelspec": {
   "display_name": "Python 3 (ipykernel)",
   "language": "python",
   "name": "python3"
  },
  "language_info": {
   "codemirror_mode": {
    "name": "ipython",
    "version": 3
   },
   "file_extension": ".py",
   "mimetype": "text/x-python",
   "name": "python",
   "nbconvert_exporter": "python",
   "pygments_lexer": "ipython3",
   "version": "3.10.5"
  }
 },
 "nbformat": 4,
 "nbformat_minor": 5
}
